{
 "cells": [
  {
   "cell_type": "markdown",
   "metadata": {},
   "source": [
    "# Generalized Linear Model"
   ]
  },
  {
   "cell_type": "markdown",
   "metadata": {},
   "source": [
    "* GLM |\n",
    "           1|-----------> linear_model.LinearRegression\n",
    "           2|-----------> linear_model.Ridge\n",
    "           3|-----------> linear_model.RidgeCV\n",
    "           |-----------> linear_model.ARDRegression\n",
    "           |-----------> linear_model.BayesianRidge\n",
    "           |-----------> linear_model.ElasticNet\n",
    "           |-----------> linear_model.ElasticNetCV\n",
    "           |-----------> linear_model.HuberRegressor\n",
    "           |-----------> linear_model.Lars\n",
    "           |-----------> linear_model.LarsCV\n",
    "           |-----------> linear_model.Lasso\n",
    "           |-----------> linear_model.LassoCV\n",
    "           |-----------> linear_model.LassoLars\n",
    "           |-----------> linear_model.LassoLarsCV\n",
    "           |-----------> linear_model.LassoLarsIC\n",
    "           |-----------> linear_model.LogisticRegression\n",
    "           |-----------> linear_model.LogisticRegressionCV\n",
    "           |-----------> linear_model.MultiTaskLasso\n",
    "           |-----------> linear_model.MultiTaskElasticNet\n",
    "           |-----------> linear_model.MultiTaskLassoCV\n",
    "           |-----------> linear_model.MultiTaskElasticNetCV\n",
    "           |-----------> linear_model.OrthogonalMatchingPursuit\n",
    "           |-----------> linear_model.OrthogonalMatchingPursuitCV\n",
    "           |-----------> linear_model.PassiveAggressiveClassifier\n",
    "           |-----------> linear_model.PassiveAggressiveRegressor\n",
    "           |-----------> linear_model.Perceptron\n",
    "           |-----------> linear_model.RandomizedLasso\n",
    "           |-----------> linear_model.RandomizedLogisticRegression\n",
    "           |-----------> linear_model.RANSACRegressor\n",
    "           |-----------> linear_model.RidgeClassifier\n",
    "           |-----------> linear_model.RidgeClassifierCV\n",
    "           |-----------> linear_model.SGDClassifier\n",
    "           |-----------> linear_model.SGDRegressor\n",
    "           |-----------> linear_model.TheilSenRegressor\n",
    "           |-----------> linear_model.lars_path\n",
    "           |-----------> linear_model.lasso_path\n",
    "           |-----------> linear_model.lasso_stability_path\n",
    "           |-----------> linear_model.logistic_regression_path\n",
    "           |-----------> linear_model.orthogonal_mp\n",
    "           |-----------> linear_model.orthogonal_mp_gram"
   ]
  },
  {
   "cell_type": "markdown",
   "metadata": {},
   "source": [
    "------------"
   ]
  },
  {
   "cell_type": "code",
   "execution_count": 1,
   "metadata": {
    "collapsed": true
   },
   "outputs": [],
   "source": [
    "from sklearn import linear_model\n",
    "import random as random\n",
    "import matplotlib.pyplot as plt\n",
    "import numpy as np\n",
    "%matplotlib inline"
   ]
  },
  {
   "cell_type": "markdown",
   "metadata": {},
   "source": [
    "----------"
   ]
  },
  {
   "cell_type": "markdown",
   "metadata": {},
   "source": [
    "#### Data"
   ]
  },
  {
   "cell_type": "code",
   "execution_count": 2,
   "metadata": {
    "collapsed": true
   },
   "outputs": [],
   "source": [
    "np = 10\n",
    "nd = 100"
   ]
  },
  {
   "cell_type": "code",
   "execution_count": 3,
   "metadata": {
    "collapsed": false
   },
   "outputs": [],
   "source": [
    "X_train = [[random.randint(1,10) for i in range(np)] for k in range(nd)]"
   ]
  },
  {
   "cell_type": "code",
   "execution_count": 4,
   "metadata": {
    "collapsed": true
   },
   "outputs": [],
   "source": [
    "Y_train =  [random.randint(1,10) for i in range(nd)]"
   ]
  },
  {
   "cell_type": "markdown",
   "metadata": {},
   "source": [
    "-------------"
   ]
  },
  {
   "cell_type": "markdown",
   "metadata": {},
   "source": [
    "#### 1. Linear Regression"
   ]
  },
  {
   "cell_type": "code",
   "execution_count": 5,
   "metadata": {
    "collapsed": true
   },
   "outputs": [],
   "source": [
    "reg = linear_model.LinearRegression()"
   ]
  },
  {
   "cell_type": "code",
   "execution_count": 6,
   "metadata": {
    "collapsed": false
   },
   "outputs": [
    {
     "data": {
      "text/plain": [
       "LinearRegression(copy_X=True, fit_intercept=True, n_jobs=1, normalize=False)"
      ]
     },
     "execution_count": 6,
     "metadata": {},
     "output_type": "execute_result"
    }
   ],
   "source": [
    "reg.fit(X_train,Y_train)"
   ]
  },
  {
   "cell_type": "markdown",
   "metadata": {},
   "source": [
    "-----------------"
   ]
  },
  {
   "cell_type": "code",
   "execution_count": 7,
   "metadata": {
    "collapsed": false
   },
   "outputs": [
    {
     "data": {
      "text/plain": [
       "array([-0.00057487, -0.14755849,  0.11079951,  0.03188446, -0.17450907,\n",
       "       -0.06646213, -0.13543228, -0.00662303, -0.10924174,  0.04943514])"
      ]
     },
     "execution_count": 7,
     "metadata": {},
     "output_type": "execute_result"
    }
   ],
   "source": [
    "reg.coef_"
   ]
  },
  {
   "cell_type": "code",
   "execution_count": 8,
   "metadata": {
    "collapsed": false
   },
   "outputs": [
    {
     "data": {
      "text/plain": [
       "7.8245142972878199"
      ]
     },
     "execution_count": 8,
     "metadata": {},
     "output_type": "execute_result"
    }
   ],
   "source": [
    "reg.intercept_"
   ]
  },
  {
   "cell_type": "markdown",
   "metadata": {},
   "source": [
    "--------------"
   ]
  },
  {
   "cell_type": "code",
   "execution_count": 9,
   "metadata": {
    "collapsed": true
   },
   "outputs": [],
   "source": [
    "X_test = [[random.randint(1,10) for i in range(np)] for k in range(nd)]"
   ]
  },
  {
   "cell_type": "code",
   "execution_count": 10,
   "metadata": {
    "collapsed": true
   },
   "outputs": [],
   "source": [
    "Y_test = [random.randint(1,10) for i in range(nd)]"
   ]
  },
  {
   "cell_type": "code",
   "execution_count": 11,
   "metadata": {
    "collapsed": false
   },
   "outputs": [],
   "source": [
    "Y_pred = reg.predict(X_test)"
   ]
  },
  {
   "cell_type": "code",
   "execution_count": 12,
   "metadata": {
    "collapsed": false
   },
   "outputs": [
    {
     "data": {
      "text/plain": [
       "-0.1028264451388925"
      ]
     },
     "execution_count": 12,
     "metadata": {},
     "output_type": "execute_result"
    }
   ],
   "source": [
    "reg.score(X_test,Y_test)"
   ]
  },
  {
   "cell_type": "code",
   "execution_count": 13,
   "metadata": {
    "collapsed": false
   },
   "outputs": [
    {
     "data": {
      "text/plain": [
       "{'copy_X': True, 'fit_intercept': True, 'n_jobs': 1, 'normalize': False}"
      ]
     },
     "execution_count": 13,
     "metadata": {},
     "output_type": "execute_result"
    }
   ],
   "source": [
    "reg.get_params([2])"
   ]
  },
  {
   "cell_type": "markdown",
   "metadata": {},
   "source": [
    "--------------"
   ]
  },
  {
   "cell_type": "markdown",
   "metadata": {},
   "source": [
    "#### 2. RidgeCV"
   ]
  },
  {
   "cell_type": "code",
   "execution_count": 27,
   "metadata": {
    "collapsed": true
   },
   "outputs": [],
   "source": [
    "regcv = linear_model.RidgeCV(alphas=[0.1, 1.0, 10.0])"
   ]
  },
  {
   "cell_type": "markdown",
   "metadata": {},
   "source": [
    "##### Parameters"
   ]
  },
  {
   "cell_type": "markdown",
   "metadata": {},
   "source": [
    "* parameters|\n",
    "              |---> alphas : numpy array of shape [n_alphas]\n",
    "              |\n",
    "              |\n",
    "              |---> fit_intercept : boolean\n",
    "              |              \n",
    "              |\n",
    "              |\n",
    "              |---> normalize : boolean, optional, default False\n",
    "              |\n",
    "              |\n",
    "              |---> scoring : string, callable or None, optional, default: None\n",
    "              |\n",
    "              |\n",
    "              |---> cv : int, cross-validation generator or an iterable, optional\n",
    "              |\n",
    "              |\n",
    "              |---> gcv_mode : |'none'\n",
    "                               |‘auto’\n",
    "                               |‘svd’\n",
    "                               |‘eigen’\n",
    "              \n",
    "              |\n",
    "              |\n",
    "              |\n",
    "              |-----> store_cv_values\n",
    "              |\n",
    "              |\n",
    "              |\n",
    "              \n"
   ]
  },
  {
   "cell_type": "code",
   "execution_count": 28,
   "metadata": {
    "collapsed": false
   },
   "outputs": [
    {
     "data": {
      "text/plain": [
       "RidgeCV(alphas=[0.1, 1.0, 10.0], cv=None, fit_intercept=True, gcv_mode=None,\n",
       "    normalize=False, scoring=None, store_cv_values=False)"
      ]
     },
     "execution_count": 28,
     "metadata": {},
     "output_type": "execute_result"
    }
   ],
   "source": [
    "regcv.fit(X_train,Y_train)"
   ]
  },
  {
   "cell_type": "markdown",
   "metadata": {},
   "source": [
    "##### solver based models"
   ]
  },
  {
   "cell_type": "code",
   "execution_count": 36,
   "metadata": {
    "collapsed": false
   },
   "outputs": [
    {
     "data": {
      "text/plain": [
       "Ridge(alpha=0.5, copy_X=True, fit_intercept=True, max_iter=None,\n",
       "   normalize=False, random_state=None, solver='svd', tol=0.001)"
      ]
     },
     "execution_count": 36,
     "metadata": {},
     "output_type": "execute_result"
    }
   ],
   "source": [
    "regcv_svd = linear_model.RidgeCV(alphas=[0.1, 1.0, 10.0], gcv_mode = 'svd')\n",
    "reg_svd.fit(X_train,Y_train)"
   ]
  },
  {
   "cell_type": "code",
   "execution_count": 40,
   "metadata": {
    "collapsed": false
   },
   "outputs": [
    {
     "data": {
      "text/plain": [
       "RidgeCV(alphas=[0.1, 1.0, 10.0], cv=None, fit_intercept=True,\n",
       "    gcv_mode='eigen', normalize=False, scoring=None, store_cv_values=False)"
      ]
     },
     "execution_count": 40,
     "metadata": {},
     "output_type": "execute_result"
    }
   ],
   "source": [
    "regcv_eigen = linear_model.RidgeCV(alphas=[0.1, 1.0, 10.0], gcv_mode = 'eigen')\n",
    "regcv_eigen.fit(X_train,Y_train)"
   ]
  },
  {
   "cell_type": "markdown",
   "metadata": {},
   "source": [
    "------------"
   ]
  },
  {
   "cell_type": "markdown",
   "metadata": {},
   "source": [
    "##### Attributes"
   ]
  },
  {
   "cell_type": "markdown",
   "metadata": {},
   "source": [
    "* Attributes |\n",
    "             |---> cv_values_\n",
    "             |\n",
    "             |\n",
    "             |---> coef_\n",
    "             |\n",
    "             |\n",
    "             |---> intercept_\n",
    "             |\n",
    "             |\n",
    "             |---> alpha_\n",
    "             |"
   ]
  },
  {
   "cell_type": "code",
   "execution_count": 41,
   "metadata": {
    "collapsed": false
   },
   "outputs": [
    {
     "data": {
      "text/plain": [
       "array([-0.00060359, -0.14557554,  0.10869014,  0.03216887, -0.17214976,\n",
       "       -0.06605545, -0.13347862, -0.00599359, -0.10808878,  0.04938044])"
      ]
     },
     "execution_count": 41,
     "metadata": {},
     "output_type": "execute_result"
    }
   ],
   "source": [
    "regcv.coef_"
   ]
  },
  {
   "cell_type": "code",
   "execution_count": 42,
   "metadata": {
    "collapsed": false
   },
   "outputs": [
    {
     "data": {
      "text/plain": [
       "7.7857761933092853"
      ]
     },
     "execution_count": 42,
     "metadata": {},
     "output_type": "execute_result"
    }
   ],
   "source": [
    "regcv.intercept_"
   ]
  },
  {
   "cell_type": "code",
   "execution_count": 45,
   "metadata": {
    "collapsed": false
   },
   "outputs": [
    {
     "data": {
      "text/plain": [
       "10.0"
      ]
     },
     "execution_count": 45,
     "metadata": {},
     "output_type": "execute_result"
    }
   ],
   "source": [
    "regcv.alpha_"
   ]
  },
  {
   "cell_type": "markdown",
   "metadata": {},
   "source": [
    "----------"
   ]
  },
  {
   "cell_type": "markdown",
   "metadata": {},
   "source": [
    "##### Methods"
   ]
  },
  {
   "cell_type": "markdown",
   "metadata": {},
   "source": [
    "* Methods  |\n",
    "           |----> dscision_function\n",
    "           |\n",
    "           |\n",
    "           |----> fit\n",
    "           |\n",
    "           |----> get_params\n",
    "           |\n",
    "           |\n",
    "           |----> score\n",
    "           |\n",
    "           |\n",
    "           |----> set_params\n",
    "           |\n",
    "           |\n",
    "           |----> predict\n",
    "           |"
   ]
  },
  {
   "cell_type": "code",
   "execution_count": 46,
   "metadata": {
    "collapsed": true
   },
   "outputs": [],
   "source": [
    "Y_pred = regcv.predict(X_test)"
   ]
  },
  {
   "cell_type": "code",
   "execution_count": 47,
   "metadata": {
    "collapsed": false
   },
   "outputs": [
    {
     "data": {
      "text/plain": [
       "-0.10077326208129023"
      ]
     },
     "execution_count": 47,
     "metadata": {},
     "output_type": "execute_result"
    }
   ],
   "source": [
    "regcv.score(X_test,Y_test)"
   ]
  },
  {
   "cell_type": "code",
   "execution_count": null,
   "metadata": {
    "collapsed": true
   },
   "outputs": [],
   "source": []
  }
 ],
 "metadata": {
  "anaconda-cloud": {},
  "kernelspec": {
   "display_name": "Python [conda root]",
   "language": "python",
   "name": "conda-root-py"
  },
  "language_info": {
   "codemirror_mode": {
    "name": "ipython",
    "version": 3
   },
   "file_extension": ".py",
   "mimetype": "text/x-python",
   "name": "python",
   "nbconvert_exporter": "python",
   "pygments_lexer": "ipython3",
   "version": "3.5.2"
  }
 },
 "nbformat": 4,
 "nbformat_minor": 1
}
